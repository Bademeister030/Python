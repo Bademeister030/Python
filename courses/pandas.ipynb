{
 "cells": [
  {
   "cell_type": "markdown",
   "metadata": {},
   "source": [
    "# Pandas: Data manipulation"
   ]
  },
  {
   "cell_type": "code",
   "execution_count": 1,
   "metadata": {},
   "outputs": [],
   "source": [
    "import pandas as pd"
   ]
  },
  {
   "cell_type": "code",
   "execution_count": 2,
   "metadata": {},
   "outputs": [],
   "source": [
    "data = {\"students\":[\"Adam\", \"Monica\", \"John\"], #Create a simple data via dictionary\n",
    "     \"born\":[1994, 1989, 2011],\n",
    "     \"academic degree\":[None,\"Bc.\",\"MSc.\"],\n",
    "     \"active\":[True,False,False]}\n"
   ]
  },
  {
   "cell_type": "code",
   "execution_count": 3,
   "metadata": {},
   "outputs": [
    {
     "data": {
      "text/plain": [
       "{'academic degree': [None, 'Bc.', 'MSc.'],\n",
       " 'active': [True, False, False],\n",
       " 'born': [1994, 1989, 2011],\n",
       " 'students': ['Adam', 'Monica', 'John']}"
      ]
     },
     "execution_count": 3,
     "metadata": {},
     "output_type": "execute_result"
    }
   ],
   "source": [
    "data"
   ]
  },
  {
   "cell_type": "code",
   "execution_count": 4,
   "metadata": {},
   "outputs": [],
   "source": [
    "df = pd.DataFrame(data) #transform data to pandas DataFrame"
   ]
  },
  {
   "cell_type": "code",
   "execution_count": 5,
   "metadata": {},
   "outputs": [
    {
     "data": {
      "text/html": [
       "<div>\n",
       "<style scoped>\n",
       "    .dataframe tbody tr th:only-of-type {\n",
       "        vertical-align: middle;\n",
       "    }\n",
       "\n",
       "    .dataframe tbody tr th {\n",
       "        vertical-align: top;\n",
       "    }\n",
       "\n",
       "    .dataframe thead th {\n",
       "        text-align: right;\n",
       "    }\n",
       "</style>\n",
       "<table border=\"1\" class=\"dataframe\">\n",
       "  <thead>\n",
       "    <tr style=\"text-align: right;\">\n",
       "      <th></th>\n",
       "      <th>academic degree</th>\n",
       "      <th>active</th>\n",
       "      <th>born</th>\n",
       "      <th>students</th>\n",
       "    </tr>\n",
       "  </thead>\n",
       "  <tbody>\n",
       "    <tr>\n",
       "      <th>0</th>\n",
       "      <td>None</td>\n",
       "      <td>True</td>\n",
       "      <td>1994</td>\n",
       "      <td>Adam</td>\n",
       "    </tr>\n",
       "    <tr>\n",
       "      <th>1</th>\n",
       "      <td>Bc.</td>\n",
       "      <td>False</td>\n",
       "      <td>1989</td>\n",
       "      <td>Monica</td>\n",
       "    </tr>\n",
       "    <tr>\n",
       "      <th>2</th>\n",
       "      <td>MSc.</td>\n",
       "      <td>False</td>\n",
       "      <td>2011</td>\n",
       "      <td>John</td>\n",
       "    </tr>\n",
       "  </tbody>\n",
       "</table>\n",
       "</div>"
      ],
      "text/plain": [
       "  academic degree  active  born students\n",
       "0            None    True  1994     Adam\n",
       "1             Bc.   False  1989   Monica\n",
       "2            MSc.   False  2011     John"
      ]
     },
     "execution_count": 5,
     "metadata": {},
     "output_type": "execute_result"
    }
   ],
   "source": [
    "df"
   ]
  },
  {
   "cell_type": "code",
   "execution_count": 6,
   "metadata": {},
   "outputs": [
    {
     "data": {
      "text/plain": [
       "pandas.core.frame.DataFrame"
      ]
     },
     "execution_count": 6,
     "metadata": {},
     "output_type": "execute_result"
    }
   ],
   "source": [
    "type(df)"
   ]
  },
  {
   "cell_type": "code",
   "execution_count": 7,
   "metadata": {},
   "outputs": [],
   "source": [
    "df[\"children\"] = [0,1,2] #add a new column \"children\""
   ]
  },
  {
   "cell_type": "code",
   "execution_count": 8,
   "metadata": {},
   "outputs": [
    {
     "data": {
      "text/html": [
       "<div>\n",
       "<style scoped>\n",
       "    .dataframe tbody tr th:only-of-type {\n",
       "        vertical-align: middle;\n",
       "    }\n",
       "\n",
       "    .dataframe tbody tr th {\n",
       "        vertical-align: top;\n",
       "    }\n",
       "\n",
       "    .dataframe thead th {\n",
       "        text-align: right;\n",
       "    }\n",
       "</style>\n",
       "<table border=\"1\" class=\"dataframe\">\n",
       "  <thead>\n",
       "    <tr style=\"text-align: right;\">\n",
       "      <th></th>\n",
       "      <th>academic degree</th>\n",
       "      <th>active</th>\n",
       "      <th>born</th>\n",
       "      <th>students</th>\n",
       "      <th>children</th>\n",
       "    </tr>\n",
       "  </thead>\n",
       "  <tbody>\n",
       "    <tr>\n",
       "      <th>0</th>\n",
       "      <td>None</td>\n",
       "      <td>True</td>\n",
       "      <td>1994</td>\n",
       "      <td>Adam</td>\n",
       "      <td>0</td>\n",
       "    </tr>\n",
       "    <tr>\n",
       "      <th>1</th>\n",
       "      <td>Bc.</td>\n",
       "      <td>False</td>\n",
       "      <td>1989</td>\n",
       "      <td>Monica</td>\n",
       "      <td>1</td>\n",
       "    </tr>\n",
       "    <tr>\n",
       "      <th>2</th>\n",
       "      <td>MSc.</td>\n",
       "      <td>False</td>\n",
       "      <td>2011</td>\n",
       "      <td>John</td>\n",
       "      <td>2</td>\n",
       "    </tr>\n",
       "  </tbody>\n",
       "</table>\n",
       "</div>"
      ],
      "text/plain": [
       "  academic degree  active  born students  children\n",
       "0            None    True  1994     Adam         0\n",
       "1             Bc.   False  1989   Monica         1\n",
       "2            MSc.   False  2011     John         2"
      ]
     },
     "execution_count": 8,
     "metadata": {},
     "output_type": "execute_result"
    }
   ],
   "source": [
    "df"
   ]
  },
  {
   "cell_type": "code",
   "execution_count": 9,
   "metadata": {},
   "outputs": [],
   "source": [
    "#create new data, which we want to append to DataFrame\n",
    "new_students =  {\n",
    "                \"students\":[\"Clara\", \"Johny\", \"Michael\"],\n",
    "                \"born\":[1984, 1989, 1920],\n",
    "                \"academic degree\":[\"PhD.\",\"Bc.\",\"MSc.\"],\n",
    "                \"active\":[True,False,False],\n",
    "                \"children\":[2,0,4]\n",
    "                }\n"
   ]
  },
  {
   "cell_type": "code",
   "execution_count": 10,
   "metadata": {},
   "outputs": [],
   "source": [
    "df = df.append(pd.DataFrame(new_students), sort = False) #append the data"
   ]
  },
  {
   "cell_type": "code",
   "execution_count": 11,
   "metadata": {},
   "outputs": [
    {
     "data": {
      "text/html": [
       "<div>\n",
       "<style scoped>\n",
       "    .dataframe tbody tr th:only-of-type {\n",
       "        vertical-align: middle;\n",
       "    }\n",
       "\n",
       "    .dataframe tbody tr th {\n",
       "        vertical-align: top;\n",
       "    }\n",
       "\n",
       "    .dataframe thead th {\n",
       "        text-align: right;\n",
       "    }\n",
       "</style>\n",
       "<table border=\"1\" class=\"dataframe\">\n",
       "  <thead>\n",
       "    <tr style=\"text-align: right;\">\n",
       "      <th></th>\n",
       "      <th>academic degree</th>\n",
       "      <th>active</th>\n",
       "      <th>born</th>\n",
       "      <th>students</th>\n",
       "      <th>children</th>\n",
       "    </tr>\n",
       "  </thead>\n",
       "  <tbody>\n",
       "    <tr>\n",
       "      <th>0</th>\n",
       "      <td>None</td>\n",
       "      <td>True</td>\n",
       "      <td>1994</td>\n",
       "      <td>Adam</td>\n",
       "      <td>0</td>\n",
       "    </tr>\n",
       "    <tr>\n",
       "      <th>1</th>\n",
       "      <td>Bc.</td>\n",
       "      <td>False</td>\n",
       "      <td>1989</td>\n",
       "      <td>Monica</td>\n",
       "      <td>1</td>\n",
       "    </tr>\n",
       "    <tr>\n",
       "      <th>2</th>\n",
       "      <td>MSc.</td>\n",
       "      <td>False</td>\n",
       "      <td>2011</td>\n",
       "      <td>John</td>\n",
       "      <td>2</td>\n",
       "    </tr>\n",
       "    <tr>\n",
       "      <th>0</th>\n",
       "      <td>PhD.</td>\n",
       "      <td>True</td>\n",
       "      <td>1984</td>\n",
       "      <td>Clara</td>\n",
       "      <td>2</td>\n",
       "    </tr>\n",
       "    <tr>\n",
       "      <th>1</th>\n",
       "      <td>Bc.</td>\n",
       "      <td>False</td>\n",
       "      <td>1989</td>\n",
       "      <td>Johny</td>\n",
       "      <td>0</td>\n",
       "    </tr>\n",
       "    <tr>\n",
       "      <th>2</th>\n",
       "      <td>MSc.</td>\n",
       "      <td>False</td>\n",
       "      <td>1920</td>\n",
       "      <td>Michael</td>\n",
       "      <td>4</td>\n",
       "    </tr>\n",
       "  </tbody>\n",
       "</table>\n",
       "</div>"
      ],
      "text/plain": [
       "  academic degree  active  born students  children\n",
       "0            None    True  1994     Adam         0\n",
       "1             Bc.   False  1989   Monica         1\n",
       "2            MSc.   False  2011     John         2\n",
       "0            PhD.    True  1984    Clara         2\n",
       "1             Bc.   False  1989    Johny         0\n",
       "2            MSc.   False  1920  Michael         4"
      ]
     },
     "execution_count": 11,
     "metadata": {},
     "output_type": "execute_result"
    }
   ],
   "source": [
    "df #notice the index values"
   ]
  },
  {
   "cell_type": "code",
   "execution_count": 12,
   "metadata": {},
   "outputs": [],
   "source": [
    "df.reset_index(inplace = True, drop = True) #Reset index values. Inplace rewrites df in place...\n",
    "                                            #...without creating a copy as a new object\n",
    "                                            #drop = false would insert a column \"index\""
   ]
  },
  {
   "cell_type": "code",
   "execution_count": 13,
   "metadata": {},
   "outputs": [
    {
     "data": {
      "text/html": [
       "<div>\n",
       "<style scoped>\n",
       "    .dataframe tbody tr th:only-of-type {\n",
       "        vertical-align: middle;\n",
       "    }\n",
       "\n",
       "    .dataframe tbody tr th {\n",
       "        vertical-align: top;\n",
       "    }\n",
       "\n",
       "    .dataframe thead th {\n",
       "        text-align: right;\n",
       "    }\n",
       "</style>\n",
       "<table border=\"1\" class=\"dataframe\">\n",
       "  <thead>\n",
       "    <tr style=\"text-align: right;\">\n",
       "      <th></th>\n",
       "      <th>academic degree</th>\n",
       "      <th>born</th>\n",
       "      <th>students</th>\n",
       "    </tr>\n",
       "  </thead>\n",
       "  <tbody>\n",
       "    <tr>\n",
       "      <th>0</th>\n",
       "      <td>None</td>\n",
       "      <td>1994</td>\n",
       "      <td>Adam</td>\n",
       "    </tr>\n",
       "    <tr>\n",
       "      <th>1</th>\n",
       "      <td>Bc.</td>\n",
       "      <td>1989</td>\n",
       "      <td>Monica</td>\n",
       "    </tr>\n",
       "    <tr>\n",
       "      <th>2</th>\n",
       "      <td>MSc.</td>\n",
       "      <td>2011</td>\n",
       "      <td>John</td>\n",
       "    </tr>\n",
       "    <tr>\n",
       "      <th>3</th>\n",
       "      <td>PhD.</td>\n",
       "      <td>1984</td>\n",
       "      <td>Clara</td>\n",
       "    </tr>\n",
       "    <tr>\n",
       "      <th>4</th>\n",
       "      <td>Bc.</td>\n",
       "      <td>1989</td>\n",
       "      <td>Johny</td>\n",
       "    </tr>\n",
       "    <tr>\n",
       "      <th>5</th>\n",
       "      <td>MSc.</td>\n",
       "      <td>1920</td>\n",
       "      <td>Michael</td>\n",
       "    </tr>\n",
       "  </tbody>\n",
       "</table>\n",
       "</div>"
      ],
      "text/plain": [
       "  academic degree  born students\n",
       "0            None  1994     Adam\n",
       "1             Bc.  1989   Monica\n",
       "2            MSc.  2011     John\n",
       "3            PhD.  1984    Clara\n",
       "4             Bc.  1989    Johny\n",
       "5            MSc.  1920  Michael"
      ]
     },
     "execution_count": 13,
     "metadata": {},
     "output_type": "execute_result"
    }
   ],
   "source": [
    "df.drop(columns=[\"active\", \"children\"]) #delete columns"
   ]
  },
  {
   "cell_type": "code",
   "execution_count": 14,
   "metadata": {},
   "outputs": [
    {
     "data": {
      "text/html": [
       "<div>\n",
       "<style scoped>\n",
       "    .dataframe tbody tr th:only-of-type {\n",
       "        vertical-align: middle;\n",
       "    }\n",
       "\n",
       "    .dataframe tbody tr th {\n",
       "        vertical-align: top;\n",
       "    }\n",
       "\n",
       "    .dataframe thead th {\n",
       "        text-align: right;\n",
       "    }\n",
       "</style>\n",
       "<table border=\"1\" class=\"dataframe\">\n",
       "  <thead>\n",
       "    <tr style=\"text-align: right;\">\n",
       "      <th></th>\n",
       "      <th>academic degree</th>\n",
       "      <th>active</th>\n",
       "      <th>born</th>\n",
       "      <th>students</th>\n",
       "      <th>children</th>\n",
       "    </tr>\n",
       "  </thead>\n",
       "  <tbody>\n",
       "    <tr>\n",
       "      <th>0</th>\n",
       "      <td>None</td>\n",
       "      <td>True</td>\n",
       "      <td>1994</td>\n",
       "      <td>Adam</td>\n",
       "      <td>0</td>\n",
       "    </tr>\n",
       "    <tr>\n",
       "      <th>2</th>\n",
       "      <td>MSc.</td>\n",
       "      <td>False</td>\n",
       "      <td>2011</td>\n",
       "      <td>John</td>\n",
       "      <td>2</td>\n",
       "    </tr>\n",
       "    <tr>\n",
       "      <th>3</th>\n",
       "      <td>PhD.</td>\n",
       "      <td>True</td>\n",
       "      <td>1984</td>\n",
       "      <td>Clara</td>\n",
       "      <td>2</td>\n",
       "    </tr>\n",
       "    <tr>\n",
       "      <th>4</th>\n",
       "      <td>Bc.</td>\n",
       "      <td>False</td>\n",
       "      <td>1989</td>\n",
       "      <td>Johny</td>\n",
       "      <td>0</td>\n",
       "    </tr>\n",
       "    <tr>\n",
       "      <th>5</th>\n",
       "      <td>MSc.</td>\n",
       "      <td>False</td>\n",
       "      <td>1920</td>\n",
       "      <td>Michael</td>\n",
       "      <td>4</td>\n",
       "    </tr>\n",
       "  </tbody>\n",
       "</table>\n",
       "</div>"
      ],
      "text/plain": [
       "  academic degree  active  born students  children\n",
       "0            None    True  1994     Adam         0\n",
       "2            MSc.   False  2011     John         2\n",
       "3            PhD.    True  1984    Clara         2\n",
       "4             Bc.   False  1989    Johny         0\n",
       "5            MSc.   False  1920  Michael         4"
      ]
     },
     "execution_count": 14,
     "metadata": {},
     "output_type": "execute_result"
    }
   ],
   "source": [
    "df.drop([1]) #delete second row"
   ]
  },
  {
   "cell_type": "markdown",
   "metadata": {},
   "source": [
    "### Accesing one column"
   ]
  },
  {
   "cell_type": "code",
   "execution_count": 15,
   "metadata": {},
   "outputs": [
    {
     "name": "stdout",
     "output_type": "stream",
     "text": [
      "[1994 1989 2011 1984 1989 1920]\n"
     ]
    },
    {
     "data": {
      "text/plain": [
       "numpy.ndarray"
      ]
     },
     "execution_count": 15,
     "metadata": {},
     "output_type": "execute_result"
    }
   ],
   "source": [
    "born = df[\"born\"].values #.values returns a numpy array\n",
    "print(born)\n",
    "type(born)"
   ]
  },
  {
   "cell_type": "code",
   "execution_count": 16,
   "metadata": {},
   "outputs": [
    {
     "name": "stdout",
     "output_type": "stream",
     "text": [
      "[None 'Bc.' 'MSc.' 'PhD.' 'Bc.' 'MSc.']\n"
     ]
    },
    {
     "data": {
      "text/plain": [
       "numpy.ndarray"
      ]
     },
     "execution_count": 16,
     "metadata": {},
     "output_type": "execute_result"
    }
   ],
   "source": [
    "degrees = df[\"academic degree\"].values\n",
    "print(degrees)\n",
    "type(degrees)"
   ]
  },
  {
   "cell_type": "markdown",
   "metadata": {},
   "source": [
    "### Accesing one row"
   ]
  },
  {
   "cell_type": "code",
   "execution_count": 17,
   "metadata": {},
   "outputs": [
    {
     "name": "stdout",
     "output_type": "stream",
     "text": [
      "academic degree       Bc.\n",
      "active              False\n",
      "born                 1989\n",
      "students           Monica\n",
      "children                1\n",
      "Name: 1, dtype: object\n"
     ]
    },
    {
     "data": {
      "text/plain": [
       "['Bc.', False, 1989, 'Monica', 1]"
      ]
     },
     "execution_count": 17,
     "metadata": {},
     "output_type": "execute_result"
    }
   ],
   "source": [
    "monica = df.iloc[1] #iloc means integer location\n",
    "print(monica)\n",
    "type(monica)\n",
    "list(monica) #make a list of monica data"
   ]
  },
  {
   "cell_type": "code",
   "execution_count": 18,
   "metadata": {},
   "outputs": [
    {
     "data": {
      "text/html": [
       "<div>\n",
       "<style scoped>\n",
       "    .dataframe tbody tr th:only-of-type {\n",
       "        vertical-align: middle;\n",
       "    }\n",
       "\n",
       "    .dataframe tbody tr th {\n",
       "        vertical-align: top;\n",
       "    }\n",
       "\n",
       "    .dataframe thead th {\n",
       "        text-align: right;\n",
       "    }\n",
       "</style>\n",
       "<table border=\"1\" class=\"dataframe\">\n",
       "  <thead>\n",
       "    <tr style=\"text-align: right;\">\n",
       "      <th></th>\n",
       "      <th>academic degree</th>\n",
       "      <th>active</th>\n",
       "      <th>born</th>\n",
       "      <th>students</th>\n",
       "      <th>children</th>\n",
       "    </tr>\n",
       "  </thead>\n",
       "  <tbody>\n",
       "    <tr>\n",
       "      <th>1</th>\n",
       "      <td>Bc.</td>\n",
       "      <td>False</td>\n",
       "      <td>1989</td>\n",
       "      <td>Monica</td>\n",
       "      <td>1</td>\n",
       "    </tr>\n",
       "  </tbody>\n",
       "</table>\n",
       "</div>"
      ],
      "text/plain": [
       "  academic degree  active  born students  children\n",
       "1             Bc.   False  1989   Monica         1"
      ]
     },
     "execution_count": 18,
     "metadata": {},
     "output_type": "execute_result"
    }
   ],
   "source": [
    "monica = df.loc[df[\"students\"]==\"Monica\"] #acces a row via boolean expression\n",
    "monica\n"
   ]
  },
  {
   "cell_type": "markdown",
   "metadata": {},
   "source": [
    "### Accesing one element"
   ]
  },
  {
   "cell_type": "code",
   "execution_count": 19,
   "metadata": {},
   "outputs": [
    {
     "data": {
      "text/plain": [
       "1989"
      ]
     },
     "execution_count": 19,
     "metadata": {},
     "output_type": "execute_result"
    }
   ],
   "source": [
    "df.iloc[1,2] #integer location again"
   ]
  },
  {
   "cell_type": "code",
   "execution_count": 20,
   "metadata": {},
   "outputs": [
    {
     "data": {
      "text/plain": [
       "1    1989\n",
       "Name: born, dtype: int64"
      ]
     },
     "execution_count": 20,
     "metadata": {},
     "output_type": "execute_result"
    }
   ],
   "source": [
    "df.loc[df[\"students\"]==\"Monica\",\"born\"] #boolean location again\n"
   ]
  },
  {
   "cell_type": "code",
   "execution_count": 21,
   "metadata": {},
   "outputs": [
    {
     "data": {
      "text/plain": [
       "array([1989])"
      ]
     },
     "execution_count": 21,
     "metadata": {},
     "output_type": "execute_result"
    }
   ],
   "source": [
    "df.loc[df[\"students\"]==\"Monica\",\"born\"].values #get a value of an element"
   ]
  },
  {
   "cell_type": "markdown",
   "metadata": {},
   "source": [
    "### Operations with DataFrame"
   ]
  },
  {
   "cell_type": "code",
   "execution_count": 22,
   "metadata": {},
   "outputs": [
    {
     "data": {
      "text/html": [
       "<div>\n",
       "<style scoped>\n",
       "    .dataframe tbody tr th:only-of-type {\n",
       "        vertical-align: middle;\n",
       "    }\n",
       "\n",
       "    .dataframe tbody tr th {\n",
       "        vertical-align: top;\n",
       "    }\n",
       "\n",
       "    .dataframe thead th {\n",
       "        text-align: right;\n",
       "    }\n",
       "</style>\n",
       "<table border=\"1\" class=\"dataframe\">\n",
       "  <thead>\n",
       "    <tr style=\"text-align: right;\">\n",
       "      <th></th>\n",
       "      <th>born</th>\n",
       "      <th>children</th>\n",
       "    </tr>\n",
       "  </thead>\n",
       "  <tbody>\n",
       "    <tr>\n",
       "      <th>count</th>\n",
       "      <td>6.000000</td>\n",
       "      <td>6.000000</td>\n",
       "    </tr>\n",
       "    <tr>\n",
       "      <th>mean</th>\n",
       "      <td>1981.166667</td>\n",
       "      <td>1.500000</td>\n",
       "    </tr>\n",
       "    <tr>\n",
       "      <th>std</th>\n",
       "      <td>31.390551</td>\n",
       "      <td>1.516575</td>\n",
       "    </tr>\n",
       "    <tr>\n",
       "      <th>min</th>\n",
       "      <td>1920.000000</td>\n",
       "      <td>0.000000</td>\n",
       "    </tr>\n",
       "    <tr>\n",
       "      <th>25%</th>\n",
       "      <td>1985.250000</td>\n",
       "      <td>0.250000</td>\n",
       "    </tr>\n",
       "    <tr>\n",
       "      <th>50%</th>\n",
       "      <td>1989.000000</td>\n",
       "      <td>1.500000</td>\n",
       "    </tr>\n",
       "    <tr>\n",
       "      <th>75%</th>\n",
       "      <td>1992.750000</td>\n",
       "      <td>2.000000</td>\n",
       "    </tr>\n",
       "    <tr>\n",
       "      <th>max</th>\n",
       "      <td>2011.000000</td>\n",
       "      <td>4.000000</td>\n",
       "    </tr>\n",
       "  </tbody>\n",
       "</table>\n",
       "</div>"
      ],
      "text/plain": [
       "              born  children\n",
       "count     6.000000  6.000000\n",
       "mean   1981.166667  1.500000\n",
       "std      31.390551  1.516575\n",
       "min    1920.000000  0.000000\n",
       "25%    1985.250000  0.250000\n",
       "50%    1989.000000  1.500000\n",
       "75%    1992.750000  2.000000\n",
       "max    2011.000000  4.000000"
      ]
     },
     "execution_count": 22,
     "metadata": {},
     "output_type": "execute_result"
    }
   ],
   "source": [
    "df.describe()#returns basic statistics of numerical data in DataFrame"
   ]
  },
  {
   "cell_type": "code",
   "execution_count": 23,
   "metadata": {},
   "outputs": [
    {
     "data": {
      "text/plain": [
       "active         0.333333\n",
       "born        1981.166667\n",
       "children       1.500000\n",
       "dtype: float64"
      ]
     },
     "execution_count": 23,
     "metadata": {},
     "output_type": "execute_result"
    }
   ],
   "source": [
    "df.mean()"
   ]
  },
  {
   "cell_type": "code",
   "execution_count": 24,
   "metadata": {},
   "outputs": [
    {
     "data": {
      "text/plain": [
       "active       0.516398\n",
       "born        31.390551\n",
       "children     1.516575\n",
       "dtype: float64"
      ]
     },
     "execution_count": 24,
     "metadata": {},
     "output_type": "execute_result"
    }
   ],
   "source": [
    "df.std()"
   ]
  },
  {
   "cell_type": "code",
   "execution_count": 25,
   "metadata": {},
   "outputs": [
    {
     "data": {
      "text/plain": [
       "active         1.0\n",
       "born        2011.0\n",
       "children       4.0\n",
       "dtype: float64"
      ]
     },
     "execution_count": 25,
     "metadata": {},
     "output_type": "execute_result"
    }
   ],
   "source": [
    "df.max()"
   ]
  },
  {
   "cell_type": "code",
   "execution_count": 26,
   "metadata": {},
   "outputs": [
    {
     "data": {
      "text/plain": [
       "1.5"
      ]
     },
     "execution_count": 26,
     "metadata": {},
     "output_type": "execute_result"
    }
   ],
   "source": [
    "df.children.mean()"
   ]
  },
  {
   "cell_type": "code",
   "execution_count": 27,
   "metadata": {},
   "outputs": [
    {
     "data": {
      "text/plain": [
       "0     True\n",
       "1     True\n",
       "2     True\n",
       "3     True\n",
       "4     True\n",
       "5    False\n",
       "Name: born, dtype: bool"
      ]
     },
     "execution_count": 27,
     "metadata": {},
     "output_type": "execute_result"
    }
   ],
   "source": [
    "#Accesing specific data via boolean expression - mask\n",
    "mask = df[\"born\"] > df[\"born\"].mean()\n",
    "mask"
   ]
  },
  {
   "cell_type": "code",
   "execution_count": 28,
   "metadata": {},
   "outputs": [
    {
     "data": {
      "text/html": [
       "<div>\n",
       "<style scoped>\n",
       "    .dataframe tbody tr th:only-of-type {\n",
       "        vertical-align: middle;\n",
       "    }\n",
       "\n",
       "    .dataframe tbody tr th {\n",
       "        vertical-align: top;\n",
       "    }\n",
       "\n",
       "    .dataframe thead th {\n",
       "        text-align: right;\n",
       "    }\n",
       "</style>\n",
       "<table border=\"1\" class=\"dataframe\">\n",
       "  <thead>\n",
       "    <tr style=\"text-align: right;\">\n",
       "      <th></th>\n",
       "      <th>academic degree</th>\n",
       "      <th>active</th>\n",
       "      <th>born</th>\n",
       "      <th>students</th>\n",
       "      <th>children</th>\n",
       "    </tr>\n",
       "  </thead>\n",
       "  <tbody>\n",
       "    <tr>\n",
       "      <th>0</th>\n",
       "      <td>None</td>\n",
       "      <td>True</td>\n",
       "      <td>1994</td>\n",
       "      <td>Adam</td>\n",
       "      <td>0</td>\n",
       "    </tr>\n",
       "    <tr>\n",
       "      <th>1</th>\n",
       "      <td>Bc.</td>\n",
       "      <td>False</td>\n",
       "      <td>1989</td>\n",
       "      <td>Monica</td>\n",
       "      <td>1</td>\n",
       "    </tr>\n",
       "    <tr>\n",
       "      <th>2</th>\n",
       "      <td>MSc.</td>\n",
       "      <td>False</td>\n",
       "      <td>2011</td>\n",
       "      <td>John</td>\n",
       "      <td>2</td>\n",
       "    </tr>\n",
       "    <tr>\n",
       "      <th>3</th>\n",
       "      <td>PhD.</td>\n",
       "      <td>True</td>\n",
       "      <td>1984</td>\n",
       "      <td>Clara</td>\n",
       "      <td>2</td>\n",
       "    </tr>\n",
       "    <tr>\n",
       "      <th>4</th>\n",
       "      <td>Bc.</td>\n",
       "      <td>False</td>\n",
       "      <td>1989</td>\n",
       "      <td>Johny</td>\n",
       "      <td>0</td>\n",
       "    </tr>\n",
       "  </tbody>\n",
       "</table>\n",
       "</div>"
      ],
      "text/plain": [
       "  academic degree  active  born students  children\n",
       "0            None    True  1994     Adam         0\n",
       "1             Bc.   False  1989   Monica         1\n",
       "2            MSc.   False  2011     John         2\n",
       "3            PhD.    True  1984    Clara         2\n",
       "4             Bc.   False  1989    Johny         0"
      ]
     },
     "execution_count": 28,
     "metadata": {},
     "output_type": "execute_result"
    }
   ],
   "source": [
    "df[mask]"
   ]
  },
  {
   "cell_type": "code",
   "execution_count": 29,
   "metadata": {},
   "outputs": [
    {
     "data": {
      "text/html": [
       "<div>\n",
       "<style scoped>\n",
       "    .dataframe tbody tr th:only-of-type {\n",
       "        vertical-align: middle;\n",
       "    }\n",
       "\n",
       "    .dataframe tbody tr th {\n",
       "        vertical-align: top;\n",
       "    }\n",
       "\n",
       "    .dataframe thead th {\n",
       "        text-align: right;\n",
       "    }\n",
       "</style>\n",
       "<table border=\"1\" class=\"dataframe\">\n",
       "  <thead>\n",
       "    <tr style=\"text-align: right;\">\n",
       "      <th></th>\n",
       "      <th>academic degree</th>\n",
       "      <th>active</th>\n",
       "      <th>born</th>\n",
       "      <th>students</th>\n",
       "      <th>children</th>\n",
       "    </tr>\n",
       "  </thead>\n",
       "  <tbody>\n",
       "    <tr>\n",
       "      <th>0</th>\n",
       "      <td>None</td>\n",
       "      <td>True</td>\n",
       "      <td>1994</td>\n",
       "      <td>Adam</td>\n",
       "      <td>0</td>\n",
       "    </tr>\n",
       "    <tr>\n",
       "      <th>4</th>\n",
       "      <td>Bc.</td>\n",
       "      <td>False</td>\n",
       "      <td>1989</td>\n",
       "      <td>Johny</td>\n",
       "      <td>0</td>\n",
       "    </tr>\n",
       "    <tr>\n",
       "      <th>1</th>\n",
       "      <td>Bc.</td>\n",
       "      <td>False</td>\n",
       "      <td>1989</td>\n",
       "      <td>Monica</td>\n",
       "      <td>1</td>\n",
       "    </tr>\n",
       "    <tr>\n",
       "      <th>2</th>\n",
       "      <td>MSc.</td>\n",
       "      <td>False</td>\n",
       "      <td>2011</td>\n",
       "      <td>John</td>\n",
       "      <td>2</td>\n",
       "    </tr>\n",
       "    <tr>\n",
       "      <th>3</th>\n",
       "      <td>PhD.</td>\n",
       "      <td>True</td>\n",
       "      <td>1984</td>\n",
       "      <td>Clara</td>\n",
       "      <td>2</td>\n",
       "    </tr>\n",
       "    <tr>\n",
       "      <th>5</th>\n",
       "      <td>MSc.</td>\n",
       "      <td>False</td>\n",
       "      <td>1920</td>\n",
       "      <td>Michael</td>\n",
       "      <td>4</td>\n",
       "    </tr>\n",
       "  </tbody>\n",
       "</table>\n",
       "</div>"
      ],
      "text/plain": [
       "  academic degree  active  born students  children\n",
       "0            None    True  1994     Adam         0\n",
       "4             Bc.   False  1989    Johny         0\n",
       "1             Bc.   False  1989   Monica         1\n",
       "2            MSc.   False  2011     John         2\n",
       "3            PhD.    True  1984    Clara         2\n",
       "5            MSc.   False  1920  Michael         4"
      ]
     },
     "execution_count": 29,
     "metadata": {},
     "output_type": "execute_result"
    }
   ],
   "source": [
    "df.sort_values([\"children\"]) #sorting data by number of children"
   ]
  },
  {
   "cell_type": "code",
   "execution_count": 30,
   "metadata": {},
   "outputs": [
    {
     "data": {
      "text/html": [
       "<div>\n",
       "<style scoped>\n",
       "    .dataframe tbody tr th:only-of-type {\n",
       "        vertical-align: middle;\n",
       "    }\n",
       "\n",
       "    .dataframe tbody tr th {\n",
       "        vertical-align: top;\n",
       "    }\n",
       "\n",
       "    .dataframe thead th {\n",
       "        text-align: right;\n",
       "    }\n",
       "</style>\n",
       "<table border=\"1\" class=\"dataframe\">\n",
       "  <thead>\n",
       "    <tr style=\"text-align: right;\">\n",
       "      <th></th>\n",
       "      <th>academic degree</th>\n",
       "      <th>active</th>\n",
       "      <th>born</th>\n",
       "      <th>students</th>\n",
       "      <th>children</th>\n",
       "    </tr>\n",
       "  </thead>\n",
       "  <tbody>\n",
       "    <tr>\n",
       "      <th>5</th>\n",
       "      <td>MSc.</td>\n",
       "      <td>False</td>\n",
       "      <td>1920</td>\n",
       "      <td>Michael</td>\n",
       "      <td>4</td>\n",
       "    </tr>\n",
       "    <tr>\n",
       "      <th>2</th>\n",
       "      <td>MSc.</td>\n",
       "      <td>False</td>\n",
       "      <td>2011</td>\n",
       "      <td>John</td>\n",
       "      <td>2</td>\n",
       "    </tr>\n",
       "    <tr>\n",
       "      <th>3</th>\n",
       "      <td>PhD.</td>\n",
       "      <td>True</td>\n",
       "      <td>1984</td>\n",
       "      <td>Clara</td>\n",
       "      <td>2</td>\n",
       "    </tr>\n",
       "    <tr>\n",
       "      <th>1</th>\n",
       "      <td>Bc.</td>\n",
       "      <td>False</td>\n",
       "      <td>1989</td>\n",
       "      <td>Monica</td>\n",
       "      <td>1</td>\n",
       "    </tr>\n",
       "    <tr>\n",
       "      <th>0</th>\n",
       "      <td>None</td>\n",
       "      <td>True</td>\n",
       "      <td>1994</td>\n",
       "      <td>Adam</td>\n",
       "      <td>0</td>\n",
       "    </tr>\n",
       "    <tr>\n",
       "      <th>4</th>\n",
       "      <td>Bc.</td>\n",
       "      <td>False</td>\n",
       "      <td>1989</td>\n",
       "      <td>Johny</td>\n",
       "      <td>0</td>\n",
       "    </tr>\n",
       "  </tbody>\n",
       "</table>\n",
       "</div>"
      ],
      "text/plain": [
       "  academic degree  active  born students  children\n",
       "5            MSc.   False  1920  Michael         4\n",
       "2            MSc.   False  2011     John         2\n",
       "3            PhD.    True  1984    Clara         2\n",
       "1             Bc.   False  1989   Monica         1\n",
       "0            None    True  1994     Adam         0\n",
       "4             Bc.   False  1989    Johny         0"
      ]
     },
     "execution_count": 30,
     "metadata": {},
     "output_type": "execute_result"
    }
   ],
   "source": [
    "df.sort_values([\"children\"], ascending = False) #descending"
   ]
  },
  {
   "cell_type": "code",
   "execution_count": 31,
   "metadata": {},
   "outputs": [
    {
     "data": {
      "text/html": [
       "<div>\n",
       "<style scoped>\n",
       "    .dataframe tbody tr th:only-of-type {\n",
       "        vertical-align: middle;\n",
       "    }\n",
       "\n",
       "    .dataframe tbody tr th {\n",
       "        vertical-align: top;\n",
       "    }\n",
       "\n",
       "    .dataframe thead th {\n",
       "        text-align: right;\n",
       "    }\n",
       "</style>\n",
       "<table border=\"1\" class=\"dataframe\">\n",
       "  <thead>\n",
       "    <tr style=\"text-align: right;\">\n",
       "      <th></th>\n",
       "      <th>academic degree</th>\n",
       "      <th>active</th>\n",
       "      <th>born</th>\n",
       "      <th>students</th>\n",
       "      <th>children</th>\n",
       "    </tr>\n",
       "  </thead>\n",
       "  <tbody>\n",
       "    <tr>\n",
       "      <th>0</th>\n",
       "      <td>None</td>\n",
       "      <td>True</td>\n",
       "      <td>1994</td>\n",
       "      <td>Adam</td>\n",
       "      <td>0</td>\n",
       "    </tr>\n",
       "    <tr>\n",
       "      <th>4</th>\n",
       "      <td>Bc.</td>\n",
       "      <td>False</td>\n",
       "      <td>1989</td>\n",
       "      <td>Johny</td>\n",
       "      <td>0</td>\n",
       "    </tr>\n",
       "    <tr>\n",
       "      <th>1</th>\n",
       "      <td>Bc.</td>\n",
       "      <td>False</td>\n",
       "      <td>1989</td>\n",
       "      <td>Monica</td>\n",
       "      <td>1</td>\n",
       "    </tr>\n",
       "    <tr>\n",
       "      <th>2</th>\n",
       "      <td>MSc.</td>\n",
       "      <td>False</td>\n",
       "      <td>2011</td>\n",
       "      <td>John</td>\n",
       "      <td>2</td>\n",
       "    </tr>\n",
       "    <tr>\n",
       "      <th>3</th>\n",
       "      <td>PhD.</td>\n",
       "      <td>True</td>\n",
       "      <td>1984</td>\n",
       "      <td>Clara</td>\n",
       "      <td>2</td>\n",
       "    </tr>\n",
       "    <tr>\n",
       "      <th>5</th>\n",
       "      <td>MSc.</td>\n",
       "      <td>False</td>\n",
       "      <td>1920</td>\n",
       "      <td>Michael</td>\n",
       "      <td>4</td>\n",
       "    </tr>\n",
       "  </tbody>\n",
       "</table>\n",
       "</div>"
      ],
      "text/plain": [
       "  academic degree  active  born students  children\n",
       "0            None    True  1994     Adam         0\n",
       "4             Bc.   False  1989    Johny         0\n",
       "1             Bc.   False  1989   Monica         1\n",
       "2            MSc.   False  2011     John         2\n",
       "3            PhD.    True  1984    Clara         2\n",
       "5            MSc.   False  1920  Michael         4"
      ]
     },
     "execution_count": 31,
     "metadata": {},
     "output_type": "execute_result"
    }
   ],
   "source": [
    "df.sort_values([\"children\",\"born\"], ascending = [True, False]) #sorting by 2 categories"
   ]
  },
  {
   "cell_type": "markdown",
   "metadata": {},
   "source": [
    "### Reading CSV"
   ]
  },
  {
   "cell_type": "code",
   "execution_count": 33,
   "metadata": {},
   "outputs": [],
   "source": [
    "#there are many options in read_csv, study the documentation\n",
    "url = 'https://raw.githubusercontent.com/mathcoder3141/blog-data-files/master/Congress_White_House.csv'\n",
    "data = pd.read_csv(url,index_col = 0)"
   ]
  },
  {
   "cell_type": "code",
   "execution_count": 34,
   "metadata": {},
   "outputs": [
    {
     "data": {
      "text/html": [
       "<div>\n",
       "<style scoped>\n",
       "    .dataframe tbody tr th:only-of-type {\n",
       "        vertical-align: middle;\n",
       "    }\n",
       "\n",
       "    .dataframe tbody tr th {\n",
       "        vertical-align: top;\n",
       "    }\n",
       "\n",
       "    .dataframe thead th {\n",
       "        text-align: right;\n",
       "    }\n",
       "</style>\n",
       "<table border=\"1\" class=\"dataframe\">\n",
       "  <thead>\n",
       "    <tr style=\"text-align: right;\">\n",
       "      <th></th>\n",
       "      <th>Employee Status</th>\n",
       "      <th>Salary</th>\n",
       "      <th>Pay Basis</th>\n",
       "      <th>Position Title</th>\n",
       "    </tr>\n",
       "    <tr>\n",
       "      <th>Employee Name</th>\n",
       "      <th></th>\n",
       "      <th></th>\n",
       "      <th></th>\n",
       "      <th></th>\n",
       "    </tr>\n",
       "  </thead>\n",
       "  <tbody>\n",
       "    <tr>\n",
       "      <th>Abrams, Adam W.</th>\n",
       "      <td>Employee</td>\n",
       "      <td>66300.0</td>\n",
       "      <td>Per Annum</td>\n",
       "      <td>WESTERN REGIONAL COMMUNICATIONS DIRECTOR</td>\n",
       "    </tr>\n",
       "    <tr>\n",
       "      <th>Adams, Ian H.</th>\n",
       "      <td>Employee</td>\n",
       "      <td>45000.0</td>\n",
       "      <td>Per Annum</td>\n",
       "      <td>EXECUTIVE ASSISTANT TO THE DIRECTOR OF SCHEDUL...</td>\n",
       "    </tr>\n",
       "    <tr>\n",
       "      <th>Agnew, David P.</th>\n",
       "      <td>Employee</td>\n",
       "      <td>93840.0</td>\n",
       "      <td>Per Annum</td>\n",
       "      <td>DEPUTY DIRECTOR OF INTERGOVERNMENTAL AFFAIRS</td>\n",
       "    </tr>\n",
       "    <tr>\n",
       "      <th>Albino, James</th>\n",
       "      <td>Employee</td>\n",
       "      <td>91800.0</td>\n",
       "      <td>Per Annum</td>\n",
       "      <td>SENIOR PROGRAM MANAGER</td>\n",
       "    </tr>\n",
       "    <tr>\n",
       "      <th>Aldy, Jr., Joseph E.</th>\n",
       "      <td>Employee</td>\n",
       "      <td>130500.0</td>\n",
       "      <td>Per Annum</td>\n",
       "      <td>SPECIAL ASSISTANT TO THE PRESIDENT FOR ENERGY ...</td>\n",
       "    </tr>\n",
       "    <tr>\n",
       "      <th>Alley, Hilary J.</th>\n",
       "      <td>Employee</td>\n",
       "      <td>42000.0</td>\n",
       "      <td>Per Annum</td>\n",
       "      <td>STAFF ASSISTANT</td>\n",
       "    </tr>\n",
       "    <tr>\n",
       "      <th>Amorsingh, Lucius L.</th>\n",
       "      <td>Employee</td>\n",
       "      <td>56092.0</td>\n",
       "      <td>Per Annum</td>\n",
       "      <td>SPECIAL ASSISTANT</td>\n",
       "    </tr>\n",
       "    <tr>\n",
       "      <th>Anderson, Amanda D.</th>\n",
       "      <td>Employee</td>\n",
       "      <td>60000.0</td>\n",
       "      <td>Per Annum</td>\n",
       "      <td>SPECIAL ASSISTANT TO THE CHIEF OF STAFF</td>\n",
       "    </tr>\n",
       "    <tr>\n",
       "      <th>Anderson, Charles D.</th>\n",
       "      <td>Employee</td>\n",
       "      <td>51000.0</td>\n",
       "      <td>Per Annum</td>\n",
       "      <td>POLICY ASSISTANT</td>\n",
       "    </tr>\n",
       "    <tr>\n",
       "      <th>Andrias, Kate E.</th>\n",
       "      <td>Employee</td>\n",
       "      <td>130500.0</td>\n",
       "      <td>Per Annum</td>\n",
       "      <td>SPECIAL ASSISTANT TO THE PRESIDENT AND ASSOCIA...</td>\n",
       "    </tr>\n",
       "  </tbody>\n",
       "</table>\n",
       "</div>"
      ],
      "text/plain": [
       "                     Employee Status    Salary  Pay Basis  \\\n",
       "Employee Name                                               \n",
       "Abrams, Adam W.             Employee   66300.0  Per Annum   \n",
       "Adams, Ian H.               Employee   45000.0  Per Annum   \n",
       "Agnew, David P.             Employee   93840.0  Per Annum   \n",
       "Albino, James               Employee   91800.0  Per Annum   \n",
       "Aldy, Jr., Joseph E.        Employee  130500.0  Per Annum   \n",
       "Alley, Hilary J.            Employee   42000.0  Per Annum   \n",
       "Amorsingh, Lucius L.        Employee   56092.0  Per Annum   \n",
       "Anderson, Amanda D.         Employee   60000.0  Per Annum   \n",
       "Anderson, Charles D.        Employee   51000.0  Per Annum   \n",
       "Andrias, Kate E.            Employee  130500.0  Per Annum   \n",
       "\n",
       "                                                         Position Title  \n",
       "Employee Name                                                            \n",
       "Abrams, Adam W.                WESTERN REGIONAL COMMUNICATIONS DIRECTOR  \n",
       "Adams, Ian H.         EXECUTIVE ASSISTANT TO THE DIRECTOR OF SCHEDUL...  \n",
       "Agnew, David P.            DEPUTY DIRECTOR OF INTERGOVERNMENTAL AFFAIRS  \n",
       "Albino, James                                    SENIOR PROGRAM MANAGER  \n",
       "Aldy, Jr., Joseph E.  SPECIAL ASSISTANT TO THE PRESIDENT FOR ENERGY ...  \n",
       "Alley, Hilary J.                                        STAFF ASSISTANT  \n",
       "Amorsingh, Lucius L.                                  SPECIAL ASSISTANT  \n",
       "Anderson, Amanda D.             SPECIAL ASSISTANT TO THE CHIEF OF STAFF  \n",
       "Anderson, Charles D.                                   POLICY ASSISTANT  \n",
       "Andrias, Kate E.      SPECIAL ASSISTANT TO THE PRESIDENT AND ASSOCIA...  "
      ]
     },
     "execution_count": 34,
     "metadata": {},
     "output_type": "execute_result"
    }
   ],
   "source": [
    "data.head(10) # if we have large data, watch only few rows with .head()"
   ]
  },
  {
   "cell_type": "code",
   "execution_count": 35,
   "metadata": {},
   "outputs": [
    {
     "data": {
      "text/html": [
       "<div>\n",
       "<style scoped>\n",
       "    .dataframe tbody tr th:only-of-type {\n",
       "        vertical-align: middle;\n",
       "    }\n",
       "\n",
       "    .dataframe tbody tr th {\n",
       "        vertical-align: top;\n",
       "    }\n",
       "\n",
       "    .dataframe thead th {\n",
       "        text-align: right;\n",
       "    }\n",
       "</style>\n",
       "<table border=\"1\" class=\"dataframe\">\n",
       "  <thead>\n",
       "    <tr style=\"text-align: right;\">\n",
       "      <th></th>\n",
       "      <th>Salary</th>\n",
       "    </tr>\n",
       "  </thead>\n",
       "  <tbody>\n",
       "    <tr>\n",
       "      <th>count</th>\n",
       "      <td>469.000000</td>\n",
       "    </tr>\n",
       "    <tr>\n",
       "      <th>mean</th>\n",
       "      <td>82721.336887</td>\n",
       "    </tr>\n",
       "    <tr>\n",
       "      <th>std</th>\n",
       "      <td>41589.433381</td>\n",
       "    </tr>\n",
       "    <tr>\n",
       "      <th>min</th>\n",
       "      <td>0.000000</td>\n",
       "    </tr>\n",
       "    <tr>\n",
       "      <th>25%</th>\n",
       "      <td>45900.000000</td>\n",
       "    </tr>\n",
       "    <tr>\n",
       "      <th>50%</th>\n",
       "      <td>66300.000000</td>\n",
       "    </tr>\n",
       "    <tr>\n",
       "      <th>75%</th>\n",
       "      <td>113000.000000</td>\n",
       "    </tr>\n",
       "    <tr>\n",
       "      <th>max</th>\n",
       "      <td>179700.000000</td>\n",
       "    </tr>\n",
       "  </tbody>\n",
       "</table>\n",
       "</div>"
      ],
      "text/plain": [
       "              Salary\n",
       "count     469.000000\n",
       "mean    82721.336887\n",
       "std     41589.433381\n",
       "min         0.000000\n",
       "25%     45900.000000\n",
       "50%     66300.000000\n",
       "75%    113000.000000\n",
       "max    179700.000000"
      ]
     },
     "execution_count": 35,
     "metadata": {},
     "output_type": "execute_result"
    }
   ],
   "source": [
    "data.describe() "
   ]
  },
  {
   "cell_type": "code",
   "execution_count": 36,
   "metadata": {},
   "outputs": [
    {
     "data": {
      "text/html": [
       "<div>\n",
       "<style scoped>\n",
       "    .dataframe tbody tr th:only-of-type {\n",
       "        vertical-align: middle;\n",
       "    }\n",
       "\n",
       "    .dataframe tbody tr th {\n",
       "        vertical-align: top;\n",
       "    }\n",
       "\n",
       "    .dataframe thead th {\n",
       "        text-align: right;\n",
       "    }\n",
       "</style>\n",
       "<table border=\"1\" class=\"dataframe\">\n",
       "  <thead>\n",
       "    <tr style=\"text-align: right;\">\n",
       "      <th></th>\n",
       "      <th>Employee Status</th>\n",
       "      <th>Salary</th>\n",
       "      <th>Pay Basis</th>\n",
       "      <th>Position Title</th>\n",
       "    </tr>\n",
       "    <tr>\n",
       "      <th>Employee Name</th>\n",
       "      <th></th>\n",
       "      <th></th>\n",
       "      <th></th>\n",
       "      <th></th>\n",
       "    </tr>\n",
       "  </thead>\n",
       "  <tbody>\n",
       "    <tr>\n",
       "      <th>Hash, Michael M.</th>\n",
       "      <td>Detailee</td>\n",
       "      <td>179700.0</td>\n",
       "      <td>Per Annum</td>\n",
       "      <td>DEPUTY DIRECTOR</td>\n",
       "    </tr>\n",
       "    <tr>\n",
       "      <th>Love, Timothy P.</th>\n",
       "      <td>Detailee</td>\n",
       "      <td>179700.0</td>\n",
       "      <td>Per Annum</td>\n",
       "      <td>POLICY DIRECTOR</td>\n",
       "    </tr>\n",
       "  </tbody>\n",
       "</table>\n",
       "</div>"
      ],
      "text/plain": [
       "                 Employee Status    Salary  Pay Basis   Position Title\n",
       "Employee Name                                                         \n",
       "Hash, Michael M.        Detailee  179700.0  Per Annum  DEPUTY DIRECTOR\n",
       "Love, Timothy P.        Detailee  179700.0  Per Annum  POLICY DIRECTOR"
      ]
     },
     "execution_count": 36,
     "metadata": {},
     "output_type": "execute_result"
    }
   ],
   "source": [
    "mask = data[\"Salary\"] == data[\"Salary\"].max() #who has the biggest salary?\n",
    "data[mask]"
   ]
  },
  {
   "cell_type": "markdown",
   "metadata": {},
   "source": [
    "### Regression"
   ]
  },
  {
   "cell_type": "code",
   "execution_count": 75,
   "metadata": {},
   "outputs": [],
   "source": [
    "import matplotlib.pyplot as plt\n",
    "import numpy as np"
   ]
  },
  {
   "cell_type": "code",
   "execution_count": 76,
   "metadata": {},
   "outputs": [],
   "source": [
    "#Import data\n",
    "data_tests = pd.read_csv(\"https://onemocneni-aktualne.mzcr.cz/api/v1/covid-19/testy.csv\") \n",
    "data_confirmed = pd.read_csv(\"https://onemocneni-aktualne.mzcr.cz/api/v1/covid-19/nakaza.csv\")"
   ]
  },
  {
   "cell_type": "code",
   "execution_count": 77,
   "metadata": {},
   "outputs": [
    {
     "data": {
      "text/html": [
       "<div>\n",
       "<style scoped>\n",
       "    .dataframe tbody tr th:only-of-type {\n",
       "        vertical-align: middle;\n",
       "    }\n",
       "\n",
       "    .dataframe tbody tr th {\n",
       "        vertical-align: top;\n",
       "    }\n",
       "\n",
       "    .dataframe thead th {\n",
       "        text-align: right;\n",
       "    }\n",
       "</style>\n",
       "<table border=\"1\" class=\"dataframe\">\n",
       "  <thead>\n",
       "    <tr style=\"text-align: right;\">\n",
       "      <th></th>\n",
       "      <th>datum</th>\n",
       "      <th>pocet_den</th>\n",
       "      <th>pocet_celkem</th>\n",
       "    </tr>\n",
       "  </thead>\n",
       "  <tbody>\n",
       "    <tr>\n",
       "      <th>0</th>\n",
       "      <td>2020-01-27</td>\n",
       "      <td>0</td>\n",
       "      <td>0</td>\n",
       "    </tr>\n",
       "    <tr>\n",
       "      <th>1</th>\n",
       "      <td>2020-01-28</td>\n",
       "      <td>0</td>\n",
       "      <td>0</td>\n",
       "    </tr>\n",
       "    <tr>\n",
       "      <th>2</th>\n",
       "      <td>2020-01-29</td>\n",
       "      <td>0</td>\n",
       "      <td>0</td>\n",
       "    </tr>\n",
       "    <tr>\n",
       "      <th>3</th>\n",
       "      <td>2020-01-30</td>\n",
       "      <td>0</td>\n",
       "      <td>0</td>\n",
       "    </tr>\n",
       "    <tr>\n",
       "      <th>4</th>\n",
       "      <td>2020-01-31</td>\n",
       "      <td>0</td>\n",
       "      <td>0</td>\n",
       "    </tr>\n",
       "  </tbody>\n",
       "</table>\n",
       "</div>"
      ],
      "text/plain": [
       "        datum  pocet_den  pocet_celkem\n",
       "0  2020-01-27          0             0\n",
       "1  2020-01-28          0             0\n",
       "2  2020-01-29          0             0\n",
       "3  2020-01-30          0             0\n",
       "4  2020-01-31          0             0"
      ]
     },
     "execution_count": 77,
     "metadata": {},
     "output_type": "execute_result"
    }
   ],
   "source": [
    "data_confirmed.head()"
   ]
  },
  {
   "cell_type": "code",
   "execution_count": 80,
   "metadata": {},
   "outputs": [],
   "source": [
    "#regression using polyfit\n",
    "x = data_tests.testy_den.values\n",
    "y = data_confirmed.pocet_den.values[0:-1]\n",
    "a, b = np.polyfit(x,y,1) #1 means linear regression, 2 quadratic etc.."
   ]
  },
  {
   "cell_type": "code",
   "execution_count": 82,
   "metadata": {},
   "outputs": [
    {
     "data": {
      "image/png": "[encoded data removed]",
      "text/plain": [
       "<matplotlib.figure.Figure at 0x7fb2d2a839e8>"
      ]
     },
     "metadata": {},
     "output_type": "display_data"
    }
   ],
   "source": [
    "plt.scatter(x,y) #scatter plot of data\n",
    "plt.plot(x,a*x+b,\"r\") #plot the regression\n",
    "plt.grid(True)\n",
    "plt.show()"
   ]
  },
  {
   "cell_type": "code",
   "execution_count": null,
   "metadata": {},
   "outputs": [],
   "source": []
  }
 ],
 "metadata": {
  "kernelspec": {
   "display_name": "Python 3",
   "language": "python",
   "name": "python3"
  },
  "language_info": {
   "codemirror_mode": {
    "name": "ipython",
    "version": 3
   },
   "file_extension": ".py",
   "mimetype": "text/x-python",
   "name": "python",
   "nbconvert_exporter": "python",
   "pygments_lexer": "ipython3",
   "version": "3.5.5"
  }
 },
 "nbformat": 4,
 "nbformat_minor": 2
}
