{
 "cells": [
  {
   "cell_type": "markdown",
   "metadata": {},
   "source": [
    "# Perceptron"
   ]
  },
  {
   "cell_type": "markdown",
   "metadata": {},
   "source": [
    "Perceptron is the simplest neural network possible. Orignaly it was *binary classificator* (that means, that it decides if it is true or false). <br>\n",
    "The algorithm was invented by *Frank Rosenblat* in 1958 (check english [wikipedia](https://en.wikipedia.org/wiki/Perceptron) for more historic details)"
   ]
  },
  {
   "cell_type": "markdown",
   "metadata": {},
   "source": [
    "Consider following model of perceptron:"
   ]
  },
  {
   "cell_type": "markdown",
   "metadata": {},
   "source": [
    "<img src=\"data/perceptron.svg\" alt=\"perceptron\" style=\"width: 100%;\"/>"
   ]
  },
  {
   "cell_type": "markdown",
   "metadata": {},
   "source": [
    "We can then rewrite that model to one formula:"
   ]
  },
  {
   "cell_type": "markdown",
   "metadata": {},
   "source": [
    "$$percetpron(x_{1}, x_{2}, \\dots, x_{n}) = \\phi\\bigg( \\theta +  \\sum_{i=1}^{n} w_ix_i\\bigg)$$"
   ]
  },
  {
   "cell_type": "markdown",
   "metadata": {},
   "source": [
    "Where $x_{1}, x_{2}, \\dots, x_{n}$ are *inputs*, $w_{1}, w_{2}, \\dots, w_{n}$ are *weights*, $\\theta$ is a *bias* and $\\phi$ is an *activation function*."
   ]
  },
  {
   "cell_type": "markdown",
   "metadata": {},
   "source": [
    "We can also rewrite this equation to *vector form*:"
   ]
  },
  {
   "cell_type": "markdown",
   "metadata": {},
   "source": [
    "$$perceptron(\\mathbf{x}) = \\phi(\\mathbf{w_{A}}\\mathbf{x_{A}})$$"
   ]
  },
  {
   "cell_type": "markdown",
   "metadata": {},
   "source": [
    "Where\n",
    "$\\mathbf{x} = [ x_{1}, x_{2}, \\dots, x_{n}]$ is input vector,\n",
    "$\\mathbf{x_A} = [1, x_{1}, x_{2}, \\dots, x_{n}]$ is *augmented input vector* and\n",
    "$\\mathbf{w_A} = [\\theta, w_{1}, w_{2}, \\dots, w_{n}]$ is *augmented weight vector*. Note that this mathematical form is much better for implementation (it is just one vector operation and one function applied on vector)"
   ]
  },
  {
   "cell_type": "markdown",
   "metadata": {},
   "source": [
    "## First learning algorithm - Gradient Descent(GD)"
   ]
  },
  {
   "cell_type": "markdown",
   "metadata": {},
   "source": [
    "Now, that we defined our model (we have intuitive idea, how neural unit in brain works) and we also have mathematical equation (model of a neural unit), we need to specify, how to make this neural unit learn."
   ]
  },
  {
   "cell_type": "markdown",
   "metadata": {},
   "source": [
    "We will use very well known idea of *optimatization* of something. We will define some criterium (which will basically quantify, how bad our neural unit is). We will call that **Error**."
   ]
  },
  {
   "cell_type": "markdown",
   "metadata": {},
   "source": [
    "Error is a function, which depends on augmented weight vector and we will define it as follows:"
   ]
  },
  {
   "cell_type": "markdown",
   "metadata": {},
   "source": [
    "$$Error(\\mathbf{w_A}) = e^2 = (perceptron(\\mathbf{x}) - y_{real})^2 = (\\mathbf{w_A} \\cdot \\mathbf{x_A} - y_{real})^2$$"
   ]
  },
  {
   "cell_type": "markdown",
   "metadata": {},
   "source": [
    "Now, since our adaptive parameters are $\\mathbf{w}$, we need to partial derivative of $Error$ function to determine gradients:"
   ]
  },
  {
   "cell_type": "markdown",
   "metadata": {},
   "source": [
    "$$\\frac{\\partial Error(\\mathbf{w})}{\\partial \\mathbf{w}} = \\frac{\\partial e^2}{\\partial \\mathbf{w}} = \\frac{\\partial e^2}{\\partial e} \\frac{\\partial e}{\\partial \\mathbf{w}} = \\frac{\\partial e^2}{\\partial e} \\frac{\\mathbf{x} \\cdot \\mathbf{w} - y_{real}}{\\partial \\mathbf{w}} = 2e\\mathbf{x}$$"
   ]
  },
  {
   "cell_type": "markdown",
   "metadata": {},
   "source": [
    "So we determine our gradients and since we want to minimize Error function, our update rule will be written as:"
   ]
  },
  {
   "cell_type": "markdown",
   "metadata": {},
   "source": [
    "$$\\mathbf{w}[k+1] = \\mathbf{w}[k] + \\mathbf{\\Delta w}[k] $$"
   ]
  },
  {
   "cell_type": "markdown",
   "metadata": {},
   "source": [
    "Where $\\mathbf{\\Delta w}[k]$:"
   ]
  },
  {
   "cell_type": "markdown",
   "metadata": {},
   "source": [
    "$$\\mathbf{\\Delta w}[k] = \\mu e \\mathbf{x}[k] $$"
   ]
  },
  {
   "cell_type": "markdown",
   "metadata": {},
   "source": [
    "Note that $\\mu$ is learning rate and is usualy set around $0.01$ or $0.001$."
   ]
  },
  {
   "cell_type": "code",
   "execution_count": 2,
   "metadata": {},
   "outputs": [],
   "source": [
    "import numpy as np"
   ]
  },
  {
   "cell_type": "code",
   "execution_count": 3,
   "metadata": {},
   "outputs": [],
   "source": [
    "class LNU:\n",
    "    def __init__(self, NumWeights):\n",
    "        self.nw = NumWeights\n",
    "        self.Weights = np.zeros((self.nw, 1))\n",
    "        print(self.Weights)\n",
    "        print(np.shape(self.Weights))\n",
    "    \n",
    "    def value(self, vectorX):\n",
    "        return vectorX*self.Weights\n",
    "    \n",
    "    def trainGD(self, MatrixX, VectorY):\n",
    "        LearningRate = 0.01\n",
    "        rows = np.shape(MatrixX)[0]\n",
    "        for k in range(rows):\n",
    "            currentX = MatrixX[k][np.newaxis, :]\n",
    "            value = np.dot(currentX, self.Weights)\n",
    "            error = value - VectorY[k]\n",
    "            deltaWeights = - LearningRate * error * currentX\n",
    "            self.Weights = self.Weights + deltaWeights.T    "
   ]
  },
  {
   "cell_type": "code",
   "execution_count": 4,
   "metadata": {},
   "outputs": [],
   "source": [
    "nfeatures = 4\n",
    "MatX = np.random.rand(100,nfeatures)\n",
    "coefs = np.array([[1.2],[2.4],[-5.0],[4.0]])\n",
    "vectorY = np.dot(MatX, coefs)"
   ]
  },
  {
   "cell_type": "code",
   "execution_count": 5,
   "metadata": {},
   "outputs": [
    {
     "name": "stdout",
     "output_type": "stream",
     "text": [
      "(100, 4) (4, 1) (100, 1)\n"
     ]
    }
   ],
   "source": [
    "print(np.shape(MatX), np.shape(coefs), np.shape(vectorY))"
   ]
  },
  {
   "cell_type": "code",
   "execution_count": 6,
   "metadata": {},
   "outputs": [
    {
     "name": "stdout",
     "output_type": "stream",
     "text": [
      "[[0.]\n",
      " [0.]\n",
      " [0.]\n",
      " [0.]]\n",
      "(4, 1)\n"
     ]
    }
   ],
   "source": [
    "NeuralUnit = LNU(nfeatures)"
   ]
  },
  {
   "cell_type": "code",
   "execution_count": 7,
   "metadata": {},
   "outputs": [],
   "source": [
    "NeuralUnit.trainGD(MatX, vectorY)"
   ]
  },
  {
   "cell_type": "code",
   "execution_count": 8,
   "metadata": {},
   "outputs": [
    {
     "data": {
      "text/plain": [
       "array([[0.53671256],\n",
       "       [0.52225859],\n",
       "       [0.06095515],\n",
       "       [0.59568454]])"
      ]
     },
     "execution_count": 8,
     "metadata": {},
     "output_type": "execute_result"
    }
   ],
   "source": [
    "NeuralUnit.Weights"
   ]
  },
  {
   "cell_type": "code",
   "execution_count": 9,
   "metadata": {},
   "outputs": [
    {
     "data": {
      "text/plain": [
       "array([[ 1.2],\n",
       "       [ 2.4],\n",
       "       [-5. ],\n",
       "       [ 4. ]])"
      ]
     },
     "execution_count": 9,
     "metadata": {},
     "output_type": "execute_result"
    }
   ],
   "source": [
    "coefs"
   ]
  },
  {
   "cell_type": "code",
   "execution_count": 37,
   "metadata": {},
   "outputs": [],
   "source": [
    "epochs = 100\n",
    "for i in range(epochs):\n",
    "    NeuralUnit.trainGD(MatX, vectorY)"
   ]
  },
  {
   "cell_type": "code",
   "execution_count": 38,
   "metadata": {},
   "outputs": [
    {
     "data": {
      "text/plain": [
       "array([[ 1.20015675],\n",
       "       [ 2.39981144],\n",
       "       [-4.99965115],\n",
       "       [ 3.99969195]])"
      ]
     },
     "execution_count": 38,
     "metadata": {},
     "output_type": "execute_result"
    }
   ],
   "source": [
    "NeuralUnit.Weights"
   ]
  },
  {
   "cell_type": "code",
   "execution_count": 39,
   "metadata": {},
   "outputs": [
    {
     "data": {
      "text/plain": [
       "array([[ 1.2],\n",
       "       [ 2.4],\n",
       "       [-5. ],\n",
       "       [ 4. ]])"
      ]
     },
     "execution_count": 39,
     "metadata": {},
     "output_type": "execute_result"
    }
   ],
   "source": [
    "coefs"
   ]
  },
  {
   "cell_type": "code",
   "execution_count": null,
   "metadata": {},
   "outputs": [],
   "source": []
  }
 ],
 "metadata": {
  "kernelspec": {
   "display_name": "Python 3",
   "language": "python",
   "name": "python3"
  },
  "language_info": {
   "codemirror_mode": {
    "name": "ipython",
    "version": 3
   },
   "file_extension": ".py",
   "mimetype": "text/x-python",
   "name": "python",
   "nbconvert_exporter": "python",
   "pygments_lexer": "ipython3",
   "version": "3.6.8"
  }
 },
 "nbformat": 4,
 "nbformat_minor": 4
}
