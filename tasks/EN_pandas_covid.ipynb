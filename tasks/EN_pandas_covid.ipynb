{
 "cells": [
  {
   "cell_type": "markdown",
   "metadata": {},
   "source": [
    "# Task - Pandas\n",
    "## Coronavirus:\n",
    "\n",
    "<ol>\n",
    "  <li>Import data about COVID-19 (e.g.: <a href=\"https://raw.githubusercontent.com/CSSEGISandData/COVID-19/master/csse_covid_19_data/csse_covid_19_time_series/time_series_covid19_confirmed_global.csv\">link</a>)</li>\n",
    "  <li>Make an approximation of total confirmed infections in time. Use exponential function</li>\n",
    "  <li>Visualize approximated data and its approximation including the equation</li>\n",
    "  <li>Visualize number of infections using geographic coordinates (longitude, latitude). The bigger number of infections, the bigger marker size. As a background use any world map you find. (if you want, you can use: <a href=\"https://matplotlib.org/basemap/\">Basemap</a>).</li>\n",
    "</ol>"
   ]
  },
  {
   "cell_type": "code",
   "execution_count": null,
   "metadata": {},
   "outputs": [],
   "source": []
  }
 ],
 "metadata": {
  "kernelspec": {
   "display_name": "Python 3",
   "language": "python",
   "name": "python3"
  },
  "language_info": {
   "codemirror_mode": {
    "name": "ipython",
    "version": 3
   },
   "file_extension": ".py",
   "mimetype": "text/x-python",
   "name": "python",
   "nbconvert_exporter": "python",
   "pygments_lexer": "ipython3",
   "version": "3.5.5"
  }
 },
 "nbformat": 4,
 "nbformat_minor": 2
}
