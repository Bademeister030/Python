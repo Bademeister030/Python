{
 "cells": [
  {
   "cell_type": "markdown",
   "metadata": {},
   "source": [
    "# Ceasar cipher encryption\n",
    "\n",
    "Explanation: https://en.wikipedia.org/wiki/Caesar_cipher\n",
    "        \n",
    "Online test tool: https://cryptii.com/pipes/caesar-cipher"
   ]
  },
  {
   "cell_type": "markdown",
   "metadata": {},
   "source": [
    "Create program that crypt any `MESSAGE` according to any `TABLE` with any given KEY using Ceasar cipher. Use following variables (their names)"
   ]
  },
  {
   "cell_type": "code",
   "execution_count": 2,
   "metadata": {},
   "outputs": [],
   "source": [
    "MESSAGE = \"do not eat all my oranges\"\n",
    "TABLE = 'abcdefghijklmnopqrstuvwxyz '\n",
    "KEY = 1"
   ]
  },
  {
   "cell_type": "markdown",
   "metadata": {},
   "source": [
    "Notes:\n",
    "\n",
    "* `KEY` can be positive or negative number of any reasonable size (-1000 ... 1000)\n",
    "* correct solution for default given values is `epaopuafbuabmmanzapsbohft`\n"
   ]
  }
 ],
 "metadata": {
  "kernelspec": {
   "display_name": "Python 3",
   "language": "python",
   "name": "python3"
  },
  "language_info": {
   "codemirror_mode": {
    "name": "ipython",
    "version": 3
   },
   "file_extension": ".py",
   "mimetype": "text/x-python",
   "name": "python",
   "nbconvert_exporter": "python",
   "pygments_lexer": "ipython3",
   "version": "3.6.7"
  }
 },
 "nbformat": 4,
 "nbformat_minor": 2
}
