{
 "cells": [
  {
   "cell_type": "markdown",
   "metadata": {},
   "source": [
    "# Úkol - umělá inteligence 1\n",
    "\n",
    "\n",
    "Pomocí knihovny cvxpy napiště kód pro nalezení řešení následující úlohy:\n",
    "\n",
    "Naše továrna vyrábí tři typy mobilů (označme je *A, B, C*).\n",
    "- zisk za kus mobilu typu A bude každý měsíc konstantní (proměnná *price_a*)\n",
    "- zisk za kus mobilu typu B se bude snižovat, protože o něj nebude zájem a bude se muset snižovat i jeho cena. Zisk za kus je uložený v proměné *price_b*\n",
    "- zisk za kus mobilu typu C se naopak bude zvyšovat. Jedná se o nový model a očekává se rapidní zlepšení technologie výroby (hlavně zlevnění pomocí velkosériové výroby)\n",
    "\n",
    "Omezení továrny:\n",
    "- Továrna není schopna vyrobit více, než 10000 kusů mobilů za měsíc\n",
    "- Každá linka je trochu jiná, takže se každý měsíc musí vyrobit minimálně 2000 kusů od každého typu mobilu\n",
    "- V druhé polovině roku nesmí být počet vyrobených modilů typu C více než 5000\n",
    "- Výroba mobilů typu B nikdy nesmí překročit 4500 za měsíc\n",
    "- V první polovině roku nesmí být počet vyrobených mobilů typu A více než 4000\n",
    "\n",
    "Naplánujte výrobu pro každý typ mobilu pro každý měsíc abyste maximalizovali celkový zisk továrny za rok. Řešení tedy bude, že pro každý měsíc budete mít 3 čísla (počty kusů) pro mobily typu A, B a C.\n",
    "\n",
    "Jaký bude celkový zisk továrny v CZK?"
   ]
  }
 ],
 "metadata": {
  "language_info": {
   "codemirror_mode": {
    "name": "ipython",
    "version": 3
   },
   "file_extension": ".py",
   "mimetype": "text/x-python",
   "name": "python",
   "nbconvert_exporter": "python",
   "pygments_lexer": "ipython3",
   "version": 3
  },
  "orig_nbformat": 2
 },
 "nbformat": 4,
 "nbformat_minor": 2
}