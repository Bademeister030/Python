{
 "cells": [
  {
   "cell_type": "markdown",
   "metadata": {},
   "source": [
    "# Game simulation: \"Rock, scissors, paper\" (https://en.wikipedia.org/wiki/Rock_paper_scissors)"
   ]
  },
  {
   "cell_type": "markdown",
   "metadata": {},
   "source": [
    "Create simple program that simulates `N` number of games. The players are defined with dictionary of probabilites (how often) they play specific \"finger forming\". Data input have to be as follows:"
   ]
  },
  {
   "cell_type": "code",
   "execution_count": 1,
   "metadata": {},
   "outputs": [],
   "source": [
    "N = 1000\n",
    "\n",
    "PLAYER_A = {\n",
    "    \"paper\": 0.8,\n",
    "    \"scissors\": 0.1,\n",
    "    \"rock\": 0.1,\n",
    "}\n",
    "\n",
    "PLAYER_B = {\n",
    "    \"paper\": 0.1,\n",
    "    \"scissors\": 0.8,\n",
    "    \"rock\": 0.1,\n",
    "}"
   ]
  },
  {
   "cell_type": "markdown",
   "metadata": {},
   "source": [
    "Notes:\n",
    "\n",
    "    - sum of all probabilites for a player should be always 1\n",
    "    - user can change the `N` and players strategy (probabilites defining player)\n",
    "    - output of the program should be human understandable, for example: \"Player A wins x games, Player B wins y games, leftover z games were ties\"\n",
    "    - you can use functions and classes (it is optional)"
   ]
  }
 ],
 "metadata": {
  "kernelspec": {
   "display_name": "Python 3",
   "language": "python",
   "name": "python3"
  },
  "language_info": {
   "codemirror_mode": {
    "name": "ipython",
    "version": 3
   },
   "file_extension": ".py",
   "mimetype": "text/x-python",
   "name": "python",
   "nbconvert_exporter": "python",
   "pygments_lexer": "ipython3",
   "version": "3.6.7"
  }
 },
 "nbformat": 4,
 "nbformat_minor": 2
}
