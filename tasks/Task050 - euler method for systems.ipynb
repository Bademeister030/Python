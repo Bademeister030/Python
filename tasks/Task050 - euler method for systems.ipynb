{
 "cells": [
  {
   "cell_type": "code",
   "execution_count": null,
   "metadata": {},
   "outputs": [],
   "source": []
  },
  {
   "cell_type": "code",
   "execution_count": null,
   "metadata": {},
   "outputs": [],
   "source": []
  },
  {
   "cell_type": "code",
   "execution_count": null,
   "metadata": {},
   "outputs": [],
   "source": []
  },
  {
   "cell_type": "code",
   "execution_count": 47,
   "metadata": {},
   "outputs": [],
   "source": [
    "import numpy as np\n",
    "import matplotlib.pyplot as plt\n",
    "\n",
    "def solver(functions, x_0, dt, time_end):\n",
    "    results = {\"x{}\".format(i): [] for i in range(len(functions))}\n",
    "    results[\"t\"] = np.arange(0.0, time_end, dt)\n",
    "    for j in range(len(x_0)):\n",
    "        results[\"x{}\".format(j)].append(x_0[j])\n",
    "    for k in range(len(results[\"t\"])):\n",
    "        x_k1 = [results[\"x{}\".format(i)][-1] for i in range(len(functions))]\n",
    "        for f in range(len(functions)):\n",
    "            dxdt = dt * functions[f](x_k1)\n",
    "            results[\"x{}\".format(f)].append(x_k1[f] + dxdt)\n",
    "    return results\n",
    "\n",
    "funcs = [\n",
    "    lambda x: -2*x[0] + x[1],\n",
    "    lambda x: 0.5*x[0] + x[2],\n",
    "    lambda x: x[0] + x[1],    \n",
    "]\n",
    "x0 = [\n",
    "    0.5,\n",
    "    -5,\n",
    "    4,\n",
    "]"
   ]
  },
  {
   "cell_type": "code",
   "execution_count": 48,
   "metadata": {},
   "outputs": [
    {
     "data": {
      "text/plain": [
       "(array([-1.21307945+0.j        , -2.89346027+1.05256507j,\n",
       "        -2.89346027-1.05256507j]),\n",
       " array([[-0.78242972+0.j        , -0.14839157+0.34473164j,\n",
       "         -0.14839157-0.34473164j],\n",
       "        [-0.61571003+0.j        , -0.23027051-0.46419581j,\n",
       "         -0.23027051+0.46419581j],\n",
       "        [-0.09330001+0.j        ,  0.76852963+0.j        ,\n",
       "          0.76852963-0.j        ]]))"
      ]
     },
     "execution_count": 48,
     "metadata": {},
     "output_type": "execute_result"
    }
   ],
   "source": [
    "d = solver(funcs, x0, 0.001, 1.0)\n",
    "np.linalg.eig(np.array([\n",
    "    [-2, 1, 0],\n",
    "    [0.5, -2, 1],\n",
    "    [1, -1, -3],\n",
    "]))"
   ]
  },
  {
   "cell_type": "code",
   "execution_count": 49,
   "metadata": {},
   "outputs": [
    {
     "data": {
      "image/png": "[encoded data removed]",
      "text/plain": [
       "<Figure size 432x288 with 1 Axes>"
      ]
     },
     "metadata": {
      "needs_background": "light"
     },
     "output_type": "display_data"
    }
   ],
   "source": [
    "for i in range(3):\n",
    "    plt.plot(d[\"x{}\".format(i)])"
   ]
  },
  {
   "cell_type": "code",
   "execution_count": null,
   "metadata": {},
   "outputs": [],
   "source": []
  }
 ],
 "metadata": {
  "kernelspec": {
   "display_name": "Python 3",
   "language": "python",
   "name": "python3"
  },
  "language_info": {
   "codemirror_mode": {
    "name": "ipython",
    "version": 3
   },
   "file_extension": ".py",
   "mimetype": "text/x-python",
   "name": "python",
   "nbconvert_exporter": "python",
   "pygments_lexer": "ipython3",
   "version": "3.6.8"
  }
 },
 "nbformat": 4,
 "nbformat_minor": 2
}
