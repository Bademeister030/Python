{
 "cells": [
  {
   "cell_type": "markdown",
   "metadata": {
    "solution": "hidden",
    "solution_first": true
   },
   "source": [
    "# Testing task 01 - coins"
   ]
  },
  {
   "cell_type": "markdown",
   "metadata": {},
   "source": [
    "Imagine we need to code a program for **coin machine**. First we need a function, which tells us what coins should we return for  certain amount of money. <br>\n",
    "Of course, we need to know, what coins we have available:"
   ]
  },
  {
   "cell_type": "code",
   "execution_count": 15,
   "metadata": {},
   "outputs": [],
   "source": [
    "COINS_LIST = [25, 10, 5, 1]"
   ]
  },
  {
   "cell_type": "markdown",
   "metadata": {
    "solution": "shown"
   },
   "source": [
    "So we need to define a function called **coins**, which takes one argument **cents** and returns list of coins correspoding to **cents** value. For example:"
   ]
  },
  {
   "cell_type": "raw",
   "metadata": {},
   "source": [
    ">>> coins(56)\n",
    ">>> [25, 25, 5, 1]"
   ]
  },
  {
   "cell_type": "markdown",
   "metadata": {},
   "source": [
    "Have in mind, that we want to minimize the number of coins as well."
   ]
  },
  {
   "cell_type": "markdown",
   "metadata": {
    "solution2": "hidden",
    "solution2_first": true
   },
   "source": [
    "#### Solution 1 - the most naive solution"
   ]
  },
  {
   "cell_type": "code",
   "execution_count": 22,
   "metadata": {
    "solution2": "hidden"
   },
   "outputs": [],
   "source": [
    "def coins(cents):\n",
    "    COINS_LIST = [25, 10, 5, 1]\n",
    "    if cents == 0:\n",
    "        return []\n",
    "    else:\n",
    "        coin_array = []\n",
    "        for coin in COINS_LIST:\n",
    "            while cents - coin >= 0:\n",
    "                coin_array.append(coin)\n",
    "                cents = cents - coin\n",
    "        return coin_array"
   ]
  },
  {
   "cell_type": "markdown",
   "metadata": {
    "solution": "hidden",
    "solution2": "hidden",
    "solution2_first": true
   },
   "source": [
    "#### Solution 2 - little bit better solution"
   ]
  },
  {
   "cell_type": "code",
   "execution_count": 1,
   "metadata": {
    "solution2": "hidden"
   },
   "outputs": [],
   "source": [
    "def coins(cents):\n",
    "    COINS_LIST = [25, 10, 5, 1]\n",
    "    coin_array = []\n",
    "    for coin in COINS_LIST:\n",
    "        amount = cents // coin\n",
    "        coin_array =coin_array + [coin] * amount\n",
    "        cents = cents % coin\n",
    "    return coin_array"
   ]
  },
  {
   "cell_type": "code",
   "execution_count": null,
   "metadata": {},
   "outputs": [],
   "source": []
  }
 ],
 "metadata": {
  "kernelspec": {
   "display_name": "Python 3",
   "language": "python",
   "name": "python3"
  },
  "language_info": {
   "codemirror_mode": {
    "name": "ipython",
    "version": 3
   },
   "file_extension": ".py",
   "mimetype": "text/x-python",
   "name": "python",
   "nbconvert_exporter": "python",
   "pygments_lexer": "ipython3",
   "version": "3.6.8"
  }
 },
 "nbformat": 4,
 "nbformat_minor": 4
}
