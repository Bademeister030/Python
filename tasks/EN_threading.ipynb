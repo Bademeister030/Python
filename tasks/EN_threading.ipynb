{
 "cells": [
  {
   "cell_type": "markdown",
   "metadata": {},
   "source": [
    "# Task - Multithreading\n",
    "## Apply multithreading to one of previous tasks\n",
    "\n",
    "<ol>\n",
    "  <li>Choose one of your previous tasks</li>\n",
    "  <li>Measure how much time the task takes without multithreding</li>\n",
    "  <li>Apply multithreading</li>\n",
    "  <li>Compare the execution time before and after multithreading</li>\n",
    "</ol>\n",
    "One of the possibilities is paralel computation of convolution e.g.: Each color channel (RGB) can be computed independetly in paralel"
   ]
  },
  {
   "cell_type": "code",
   "execution_count": null,
   "metadata": {},
   "outputs": [],
   "source": []
  }
 ],
 "metadata": {
  "kernelspec": {
   "display_name": "Python 3",
   "language": "python",
   "name": "python3"
  },
  "language_info": {
   "codemirror_mode": {
    "name": "ipython",
    "version": 3
   },
   "file_extension": ".py",
   "mimetype": "text/x-python",
   "name": "python",
   "nbconvert_exporter": "python",
   "pygments_lexer": "ipython3",
   "version": "3.5.5"
  }
 },
 "nbformat": 4,
 "nbformat_minor": 2
}
